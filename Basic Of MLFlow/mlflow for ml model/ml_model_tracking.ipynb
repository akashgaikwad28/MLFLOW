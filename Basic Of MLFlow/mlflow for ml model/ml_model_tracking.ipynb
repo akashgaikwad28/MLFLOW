{
 "cells": [
  {
   "cell_type": "markdown",
   "id": "12d3b860",
   "metadata": {},
   "source": [
    "### Getting Started With ML Project With MLFLOW\n",
    "\n",
    "- Installing MLflow.\n",
    "\n",
    "- Starting a local MLflow Tracking Server.\n",
    "\n",
    "- Logging and registering a model with MLflow.\n",
    "\n",
    "- Loading a logged model for inference using MLflow’s pyfunc flavor.\n",
    "\n",
    "- Viewing the experiment results in the MLflow UI."
   ]
  },
  {
   "cell_type": "code",
   "execution_count": 1,
   "id": "e2bee8d0",
   "metadata": {},
   "outputs": [],
   "source": [
    "import pandas as pd\n",
    "from sklearn import datasets\n",
    "from sklearn.linear_model import LogisticRegression\n",
    "from sklearn.metrics import accuracy_score\n",
    "from sklearn.model_selection import train_test_split\n",
    "import mlflow\n",
    "from mlflow.models import infer_signature\n",
    "\n"
   ]
  },
  {
   "cell_type": "code",
   "execution_count": 2,
   "id": "9ebd71a3",
   "metadata": {},
   "outputs": [],
   "source": [
    "## set the tracking uri\n",
    "mlflow.set_tracking_uri(uri=\"http://127.0.0.1:5000\")"
   ]
  },
  {
   "cell_type": "code",
   "execution_count": 3,
   "id": "75ae3ec5",
   "metadata": {},
   "outputs": [
    {
     "data": {
      "text/html": [
       "<style>#sk-container-id-1 {color: black;}#sk-container-id-1 pre{padding: 0;}#sk-container-id-1 div.sk-toggleable {background-color: white;}#sk-container-id-1 label.sk-toggleable__label {cursor: pointer;display: block;width: 100%;margin-bottom: 0;padding: 0.3em;box-sizing: border-box;text-align: center;}#sk-container-id-1 label.sk-toggleable__label-arrow:before {content: \"▸\";float: left;margin-right: 0.25em;color: #696969;}#sk-container-id-1 label.sk-toggleable__label-arrow:hover:before {color: black;}#sk-container-id-1 div.sk-estimator:hover label.sk-toggleable__label-arrow:before {color: black;}#sk-container-id-1 div.sk-toggleable__content {max-height: 0;max-width: 0;overflow: hidden;text-align: left;background-color: #f0f8ff;}#sk-container-id-1 div.sk-toggleable__content pre {margin: 0.2em;color: black;border-radius: 0.25em;background-color: #f0f8ff;}#sk-container-id-1 input.sk-toggleable__control:checked~div.sk-toggleable__content {max-height: 200px;max-width: 100%;overflow: auto;}#sk-container-id-1 input.sk-toggleable__control:checked~label.sk-toggleable__label-arrow:before {content: \"▾\";}#sk-container-id-1 div.sk-estimator input.sk-toggleable__control:checked~label.sk-toggleable__label {background-color: #d4ebff;}#sk-container-id-1 div.sk-label input.sk-toggleable__control:checked~label.sk-toggleable__label {background-color: #d4ebff;}#sk-container-id-1 input.sk-hidden--visually {border: 0;clip: rect(1px 1px 1px 1px);clip: rect(1px, 1px, 1px, 1px);height: 1px;margin: -1px;overflow: hidden;padding: 0;position: absolute;width: 1px;}#sk-container-id-1 div.sk-estimator {font-family: monospace;background-color: #f0f8ff;border: 1px dotted black;border-radius: 0.25em;box-sizing: border-box;margin-bottom: 0.5em;}#sk-container-id-1 div.sk-estimator:hover {background-color: #d4ebff;}#sk-container-id-1 div.sk-parallel-item::after {content: \"\";width: 100%;border-bottom: 1px solid gray;flex-grow: 1;}#sk-container-id-1 div.sk-label:hover label.sk-toggleable__label {background-color: #d4ebff;}#sk-container-id-1 div.sk-serial::before {content: \"\";position: absolute;border-left: 1px solid gray;box-sizing: border-box;top: 0;bottom: 0;left: 50%;z-index: 0;}#sk-container-id-1 div.sk-serial {display: flex;flex-direction: column;align-items: center;background-color: white;padding-right: 0.2em;padding-left: 0.2em;position: relative;}#sk-container-id-1 div.sk-item {position: relative;z-index: 1;}#sk-container-id-1 div.sk-parallel {display: flex;align-items: stretch;justify-content: center;background-color: white;position: relative;}#sk-container-id-1 div.sk-item::before, #sk-container-id-1 div.sk-parallel-item::before {content: \"\";position: absolute;border-left: 1px solid gray;box-sizing: border-box;top: 0;bottom: 0;left: 50%;z-index: -1;}#sk-container-id-1 div.sk-parallel-item {display: flex;flex-direction: column;z-index: 1;position: relative;background-color: white;}#sk-container-id-1 div.sk-parallel-item:first-child::after {align-self: flex-end;width: 50%;}#sk-container-id-1 div.sk-parallel-item:last-child::after {align-self: flex-start;width: 50%;}#sk-container-id-1 div.sk-parallel-item:only-child::after {width: 0;}#sk-container-id-1 div.sk-dashed-wrapped {border: 1px dashed gray;margin: 0 0.4em 0.5em 0.4em;box-sizing: border-box;padding-bottom: 0.4em;background-color: white;}#sk-container-id-1 div.sk-label label {font-family: monospace;font-weight: bold;display: inline-block;line-height: 1.2em;}#sk-container-id-1 div.sk-label-container {text-align: center;}#sk-container-id-1 div.sk-container {/* jupyter's `normalize.less` sets `[hidden] { display: none; }` but bootstrap.min.css set `[hidden] { display: none !important; }` so we also need the `!important` here to be able to override the default hidden behavior on the sphinx rendered scikit-learn.org. See: https://github.com/scikit-learn/scikit-learn/issues/21755 */display: inline-block !important;position: relative;}#sk-container-id-1 div.sk-text-repr-fallback {display: none;}</style><div id=\"sk-container-id-1\" class=\"sk-top-container\"><div class=\"sk-text-repr-fallback\"><pre>LogisticRegression(max_iter=1000, random_state=8888)</pre><b>In a Jupyter environment, please rerun this cell to show the HTML representation or trust the notebook. <br />On GitHub, the HTML representation is unable to render, please try loading this page with nbviewer.org.</b></div><div class=\"sk-container\" hidden><div class=\"sk-item\"><div class=\"sk-estimator sk-toggleable\"><input class=\"sk-toggleable__control sk-hidden--visually\" id=\"sk-estimator-id-1\" type=\"checkbox\" checked><label for=\"sk-estimator-id-1\" class=\"sk-toggleable__label sk-toggleable__label-arrow\">LogisticRegression</label><div class=\"sk-toggleable__content\"><pre>LogisticRegression(max_iter=1000, random_state=8888)</pre></div></div></div></div></div>"
      ],
      "text/plain": [
       "LogisticRegression(max_iter=1000, random_state=8888)"
      ]
     },
     "execution_count": 3,
     "metadata": {},
     "output_type": "execute_result"
    }
   ],
   "source": [
    "## load the dataset\n",
    "X,y=datasets.load_iris(return_X_y=True)\n",
    "# split the data into training and test sets\n",
    "X_train,X_test,y_train,y_test=train_test_split(X,y,test_size=0.20)\n",
    "\n",
    "# Define the model hyperparameters\n",
    "params = {\"penalty\":\"l2\",\"solver\": \"lbfgs\", \"max_iter\": 1000, \"multi_class\": \"auto\", \"random_state\": 8888}\n",
    "\n",
    "##train the model\n",
    "\n",
    "lr=LogisticRegression(**params)\n",
    "lr.fit(X_train,y_train)\n"
   ]
  },
  {
   "cell_type": "code",
   "execution_count": 4,
   "id": "c69c9bd5",
   "metadata": {},
   "outputs": [
    {
     "data": {
      "text/plain": [
       "array([2, 2, 2, 1, 1, 1, 0, 2, 1, 0, 1, 1, 1, 0, 1, 2, 0, 2, 2, 0, 1, 0,\n",
       "       1, 2, 1, 2, 0, 0, 2, 2])"
      ]
     },
     "execution_count": 4,
     "metadata": {},
     "output_type": "execute_result"
    }
   ],
   "source": [
    "## Prediction on the test set\n",
    "y_pred=lr.predict(X_test)\n",
    "y_pred"
   ]
  },
  {
   "cell_type": "code",
   "execution_count": 5,
   "id": "3a315a85",
   "metadata": {},
   "outputs": [
    {
     "name": "stdout",
     "output_type": "stream",
     "text": [
      "0.9666666666666667\n"
     ]
    }
   ],
   "source": [
    "accuracy=accuracy_score(y_test,y_pred)\n",
    "print(accuracy)"
   ]
  },
  {
   "cell_type": "markdown",
   "id": "321c8008",
   "metadata": {},
   "source": [
    "### ML Model MLFLOW Tracking\n"
   ]
  },
  {
   "cell_type": "code",
   "execution_count": 6,
   "id": "0b661831",
   "metadata": {},
   "outputs": [
    {
     "name": "stderr",
     "output_type": "stream",
     "text": [
      "2025/08/26 22:15:21 INFO mlflow.tracking.fluent: Experiment with name 'MLFLOW Quickstart' does not exist. Creating a new experiment.\n",
      "2025/08/26 22:15:22 WARNING mlflow.models.model: `artifact_path` is deprecated. Please use `name` instead.\n"
     ]
    },
    {
     "data": {
      "application/vnd.jupyter.widget-view+json": {
       "model_id": "efc372a9c78c42968bd6848522807da7",
       "version_major": 2,
       "version_minor": 0
      },
      "text/plain": [
       "Downloading artifacts:   0%|          | 0/7 [00:00<?, ?it/s]"
      ]
     },
     "metadata": {},
     "output_type": "display_data"
    },
    {
     "name": "stderr",
     "output_type": "stream",
     "text": [
      "Successfully registered model 'tracking-quickstart'.\n",
      "2025/08/26 22:15:28 INFO mlflow.store.model_registry.abstract_store: Waiting up to 300 seconds for model version to finish creation. Model name: tracking-quickstart, version 1\n"
     ]
    },
    {
     "name": "stdout",
     "output_type": "stream",
     "text": [
      "🏃 View run delightful-stork-917 at: http://127.0.0.1:5000/#/experiments/114085165796565616/runs/ab7b78b00042461fb17c924ad31315d3\n",
      "🧪 View experiment at: http://127.0.0.1:5000/#/experiments/114085165796565616\n"
     ]
    },
    {
     "name": "stderr",
     "output_type": "stream",
     "text": [
      "Created version '1' of model 'tracking-quickstart'.\n"
     ]
    }
   ],
   "source": [
    "### MLFLOW tracking\n",
    "mlflow.set_tracking_uri(uri=\"http://127.0.0.1:5000\")\n",
    "\n",
    "##create a new MLFLOW experiment\n",
    "mlflow.set_experiment(\"MLFLOW Quickstart\")\n",
    "\n",
    "## Sstart an MLFLOW run\n",
    "with mlflow.start_run():\n",
    "    ## log the hyperparameters\n",
    "    mlflow.log_params(params)\n",
    "\n",
    "    ## Log the accuracy metrics\n",
    "    mlflow.log_metric(\"accuracy\",accuracy)\n",
    "\n",
    "    # Set a tag that we can use to remind ourselves what this run was for\n",
    "    mlflow.set_tag(\"Training Info\", \"Basic LR model for iris data\")\n",
    "\n",
    "    ## Infer the model signature\n",
    "\n",
    "    signature=infer_signature(X_train,lr.predict(X_train))\n",
    "\n",
    "    ## log the model\n",
    "    model_info=mlflow.sklearn.log_model(\n",
    "        sk_model=lr,\n",
    "        artifact_path=\"iris_model\",\n",
    "        signature=signature,\n",
    "        input_example=X_train,\n",
    "        registered_model_name=\"tracking-quickstart\",\n",
    "\n",
    "    )\n",
    "\n",
    "\n",
    "    "
   ]
  },
  {
   "cell_type": "code",
   "execution_count": 7,
   "id": "8915d6c4",
   "metadata": {},
   "outputs": [
    {
     "data": {
      "text/html": [
       "<style>#sk-container-id-2 {color: black;}#sk-container-id-2 pre{padding: 0;}#sk-container-id-2 div.sk-toggleable {background-color: white;}#sk-container-id-2 label.sk-toggleable__label {cursor: pointer;display: block;width: 100%;margin-bottom: 0;padding: 0.3em;box-sizing: border-box;text-align: center;}#sk-container-id-2 label.sk-toggleable__label-arrow:before {content: \"▸\";float: left;margin-right: 0.25em;color: #696969;}#sk-container-id-2 label.sk-toggleable__label-arrow:hover:before {color: black;}#sk-container-id-2 div.sk-estimator:hover label.sk-toggleable__label-arrow:before {color: black;}#sk-container-id-2 div.sk-toggleable__content {max-height: 0;max-width: 0;overflow: hidden;text-align: left;background-color: #f0f8ff;}#sk-container-id-2 div.sk-toggleable__content pre {margin: 0.2em;color: black;border-radius: 0.25em;background-color: #f0f8ff;}#sk-container-id-2 input.sk-toggleable__control:checked~div.sk-toggleable__content {max-height: 200px;max-width: 100%;overflow: auto;}#sk-container-id-2 input.sk-toggleable__control:checked~label.sk-toggleable__label-arrow:before {content: \"▾\";}#sk-container-id-2 div.sk-estimator input.sk-toggleable__control:checked~label.sk-toggleable__label {background-color: #d4ebff;}#sk-container-id-2 div.sk-label input.sk-toggleable__control:checked~label.sk-toggleable__label {background-color: #d4ebff;}#sk-container-id-2 input.sk-hidden--visually {border: 0;clip: rect(1px 1px 1px 1px);clip: rect(1px, 1px, 1px, 1px);height: 1px;margin: -1px;overflow: hidden;padding: 0;position: absolute;width: 1px;}#sk-container-id-2 div.sk-estimator {font-family: monospace;background-color: #f0f8ff;border: 1px dotted black;border-radius: 0.25em;box-sizing: border-box;margin-bottom: 0.5em;}#sk-container-id-2 div.sk-estimator:hover {background-color: #d4ebff;}#sk-container-id-2 div.sk-parallel-item::after {content: \"\";width: 100%;border-bottom: 1px solid gray;flex-grow: 1;}#sk-container-id-2 div.sk-label:hover label.sk-toggleable__label {background-color: #d4ebff;}#sk-container-id-2 div.sk-serial::before {content: \"\";position: absolute;border-left: 1px solid gray;box-sizing: border-box;top: 0;bottom: 0;left: 50%;z-index: 0;}#sk-container-id-2 div.sk-serial {display: flex;flex-direction: column;align-items: center;background-color: white;padding-right: 0.2em;padding-left: 0.2em;position: relative;}#sk-container-id-2 div.sk-item {position: relative;z-index: 1;}#sk-container-id-2 div.sk-parallel {display: flex;align-items: stretch;justify-content: center;background-color: white;position: relative;}#sk-container-id-2 div.sk-item::before, #sk-container-id-2 div.sk-parallel-item::before {content: \"\";position: absolute;border-left: 1px solid gray;box-sizing: border-box;top: 0;bottom: 0;left: 50%;z-index: -1;}#sk-container-id-2 div.sk-parallel-item {display: flex;flex-direction: column;z-index: 1;position: relative;background-color: white;}#sk-container-id-2 div.sk-parallel-item:first-child::after {align-self: flex-end;width: 50%;}#sk-container-id-2 div.sk-parallel-item:last-child::after {align-self: flex-start;width: 50%;}#sk-container-id-2 div.sk-parallel-item:only-child::after {width: 0;}#sk-container-id-2 div.sk-dashed-wrapped {border: 1px dashed gray;margin: 0 0.4em 0.5em 0.4em;box-sizing: border-box;padding-bottom: 0.4em;background-color: white;}#sk-container-id-2 div.sk-label label {font-family: monospace;font-weight: bold;display: inline-block;line-height: 1.2em;}#sk-container-id-2 div.sk-label-container {text-align: center;}#sk-container-id-2 div.sk-container {/* jupyter's `normalize.less` sets `[hidden] { display: none; }` but bootstrap.min.css set `[hidden] { display: none !important; }` so we also need the `!important` here to be able to override the default hidden behavior on the sphinx rendered scikit-learn.org. See: https://github.com/scikit-learn/scikit-learn/issues/21755 */display: inline-block !important;position: relative;}#sk-container-id-2 div.sk-text-repr-fallback {display: none;}</style><div id=\"sk-container-id-2\" class=\"sk-top-container\"><div class=\"sk-text-repr-fallback\"><pre>LogisticRegression(max_iter=1000, random_state=1000, solver=&#x27;newton-cg&#x27;)</pre><b>In a Jupyter environment, please rerun this cell to show the HTML representation or trust the notebook. <br />On GitHub, the HTML representation is unable to render, please try loading this page with nbviewer.org.</b></div><div class=\"sk-container\" hidden><div class=\"sk-item\"><div class=\"sk-estimator sk-toggleable\"><input class=\"sk-toggleable__control sk-hidden--visually\" id=\"sk-estimator-id-2\" type=\"checkbox\" checked><label for=\"sk-estimator-id-2\" class=\"sk-toggleable__label sk-toggleable__label-arrow\">LogisticRegression</label><div class=\"sk-toggleable__content\"><pre>LogisticRegression(max_iter=1000, random_state=1000, solver=&#x27;newton-cg&#x27;)</pre></div></div></div></div></div>"
      ],
      "text/plain": [
       "LogisticRegression(max_iter=1000, random_state=1000, solver='newton-cg')"
      ]
     },
     "execution_count": 7,
     "metadata": {},
     "output_type": "execute_result"
    }
   ],
   "source": [
    "# Define the model hyperparameters\n",
    "params = {\"solver\": \"newton-cg\", \"max_iter\": 1000, \"multi_class\": \"auto\", \"random_state\": 1000}\n",
    "\n",
    "##train the model\n",
    "\n",
    "lr=LogisticRegression(**params)\n",
    "lr.fit(X_train,y_train)\n"
   ]
  },
  {
   "cell_type": "code",
   "execution_count": 8,
   "id": "e3a6eb40",
   "metadata": {},
   "outputs": [
    {
     "data": {
      "text/plain": [
       "array([2, 2, 2, 1, 1, 1, 0, 2, 1, 0, 1, 1, 1, 0, 1, 2, 0, 2, 2, 0, 1, 0,\n",
       "       1, 2, 1, 2, 0, 0, 2, 2])"
      ]
     },
     "execution_count": 8,
     "metadata": {},
     "output_type": "execute_result"
    }
   ],
   "source": [
    "y_pred=lr.predict(X_test)\n",
    "y_pred"
   ]
  },
  {
   "cell_type": "code",
   "execution_count": 9,
   "id": "1ce96f23",
   "metadata": {},
   "outputs": [
    {
     "name": "stdout",
     "output_type": "stream",
     "text": [
      "0.9666666666666667\n"
     ]
    }
   ],
   "source": [
    "accuracy=accuracy_score(y_test,y_pred)\n",
    "print(accuracy)"
   ]
  },
  {
   "cell_type": "code",
   "execution_count": 10,
   "id": "56e61646",
   "metadata": {},
   "outputs": [
    {
     "name": "stderr",
     "output_type": "stream",
     "text": [
      "2025/08/26 22:15:28 WARNING mlflow.models.model: `artifact_path` is deprecated. Please use `name` instead.\n"
     ]
    },
    {
     "data": {
      "application/vnd.jupyter.widget-view+json": {
       "model_id": "8d4be7af49b24128a11f20f44b87ec2c",
       "version_major": 2,
       "version_minor": 0
      },
      "text/plain": [
       "Downloading artifacts:   0%|          | 0/7 [00:00<?, ?it/s]"
      ]
     },
     "metadata": {},
     "output_type": "display_data"
    },
    {
     "name": "stderr",
     "output_type": "stream",
     "text": [
      "Registered model 'tracking-quickstart' already exists. Creating a new version of this model...\n",
      "2025/08/26 22:15:32 INFO mlflow.store.model_registry.abstract_store: Waiting up to 300 seconds for model version to finish creation. Model name: tracking-quickstart, version 2\n"
     ]
    },
    {
     "name": "stdout",
     "output_type": "stream",
     "text": [
      "🏃 View run masked-pug-614 at: http://127.0.0.1:5000/#/experiments/114085165796565616/runs/66ef349a5dfd40b6b7c29c1f603e68bb\n",
      "🧪 View experiment at: http://127.0.0.1:5000/#/experiments/114085165796565616\n"
     ]
    },
    {
     "name": "stderr",
     "output_type": "stream",
     "text": [
      "Created version '2' of model 'tracking-quickstart'.\n"
     ]
    }
   ],
   "source": [
    "## Sstart an MLFLOW run\n",
    "with mlflow.start_run():\n",
    "    ## log the hyperparameters\n",
    "    mlflow.log_params(params)\n",
    "\n",
    "    ## Log the accuracy metrics\n",
    "    mlflow.log_metric(\"accuracy\",accuracy)\n",
    "\n",
    "    # Set a tag that we can use to remind ourselves what this run was for\n",
    "    mlflow.set_tag(\"Training Info\", \"Basic LR model for iris data\")\n",
    "\n",
    "    ## Infer the model signature\n",
    "\n",
    "    signature=infer_signature(X_train,lr.predict(X_train))\n",
    "\n",
    "    ## log the model\n",
    "    model_info=mlflow.sklearn.log_model(\n",
    "        sk_model=lr,\n",
    "        artifact_path=\"iris_model\",\n",
    "        signature=signature,\n",
    "        input_example=X_train,\n",
    "        registered_model_name=\"tracking-quickstart\",\n",
    "\n",
    "    )"
   ]
  },
  {
   "cell_type": "code",
   "execution_count": 11,
   "id": "3bec6d15",
   "metadata": {},
   "outputs": [
    {
     "data": {
      "text/plain": [
       "'models:/m-06a90d17f1c04592afdd84a30e81dfc6'"
      ]
     },
     "execution_count": 11,
     "metadata": {},
     "output_type": "execute_result"
    }
   ],
   "source": [
    "model_info.model_uri"
   ]
  },
  {
   "cell_type": "markdown",
   "id": "39486d60",
   "metadata": {},
   "source": [
    "## Inferencing And Validating Model\n"
   ]
  },
  {
   "cell_type": "code",
   "execution_count": 12,
   "id": "72cf82e6",
   "metadata": {},
   "outputs": [
    {
     "data": {
      "application/vnd.jupyter.widget-view+json": {
       "model_id": "ff1abcfdd88c41ba8d1ef9bec7f53aeb",
       "version_major": 2,
       "version_minor": 0
      },
      "text/plain": [
       "Downloading artifacts:   0%|          | 0/7 [00:00<?, ?it/s]"
      ]
     },
     "metadata": {},
     "output_type": "display_data"
    },
    {
     "data": {
      "text/plain": [
       "array([0, 0, 1, 0, 2, 2, 1, 2, 0, 0, 0, 0, 2, 2, 2, 0, 2, 2, 0, 2, 2, 2,\n",
       "       2, 0, 2, 0, 2, 0, 2, 0, 0, 1, 0, 0, 2, 0, 2, 0, 1, 1, 2, 0, 2, 1,\n",
       "       2, 2, 2, 1, 0, 2, 1, 2, 1, 0, 0, 1, 1, 1, 2, 0, 1, 2, 0, 1, 2, 0,\n",
       "       0, 2, 1, 1, 1, 0, 1, 1, 2, 2, 1, 1, 2, 2, 1, 1, 2, 0, 1, 2, 0, 1,\n",
       "       1, 0, 2, 0, 2, 1, 1, 0, 0, 0, 0, 1, 1, 0, 1, 2, 0, 1, 0, 0, 0, 2,\n",
       "       1, 1, 2, 0, 1, 2, 0, 0, 1, 2])"
      ]
     },
     "execution_count": 12,
     "metadata": {},
     "output_type": "execute_result"
    }
   ],
   "source": [
    "from mlflow.models import validate_serving_input\n",
    "\n",
    "model_uri = model_info.model_uri\n",
    "\n",
    "# The model is logged with an input example. MLflow converts\n",
    "# it into the serving payload format for the deployed model endpoint,\n",
    "# and saves it to 'serving_input_payload.json'\n",
    "serving_payload = \"\"\"{\n",
    "  \"inputs\": [\n",
    "    [\n",
    "      5.7,\n",
    "      3.8,\n",
    "      1.7,\n",
    "      0.3\n",
    "    ],\n",
    "    [\n",
    "      4.8,\n",
    "      3.4,\n",
    "      1.6,\n",
    "      0.2\n",
    "    ],\n",
    "    [\n",
    "      5.6,\n",
    "      2.9,\n",
    "      3.6,\n",
    "      1.3\n",
    "    ],\n",
    "    [\n",
    "      5.4,\n",
    "      3.7,\n",
    "      1.5,\n",
    "      0.2\n",
    "    ],\n",
    "    [\n",
    "      6.7,\n",
    "      3.3,\n",
    "      5.7,\n",
    "      2.5\n",
    "    ],\n",
    "    [\n",
    "      6.5,\n",
    "      3.0,\n",
    "      5.8,\n",
    "      2.2\n",
    "    ],\n",
    "    [\n",
    "      5.1,\n",
    "      2.5,\n",
    "      3.0,\n",
    "      1.1\n",
    "    ],\n",
    "    [\n",
    "      7.7,\n",
    "      3.0,\n",
    "      6.1,\n",
    "      2.3\n",
    "    ],\n",
    "    [\n",
    "      5.2,\n",
    "      4.1,\n",
    "      1.5,\n",
    "      0.1\n",
    "    ],\n",
    "    [\n",
    "      5.0,\n",
    "      3.3,\n",
    "      1.4,\n",
    "      0.2\n",
    "    ],\n",
    "    [\n",
    "      4.6,\n",
    "      3.6,\n",
    "      1.0,\n",
    "      0.2\n",
    "    ],\n",
    "    [\n",
    "      4.5,\n",
    "      2.3,\n",
    "      1.3,\n",
    "      0.3\n",
    "    ],\n",
    "    [\n",
    "      5.6,\n",
    "      2.8,\n",
    "      4.9,\n",
    "      2.0\n",
    "    ],\n",
    "    [\n",
    "      6.2,\n",
    "      3.4,\n",
    "      5.4,\n",
    "      2.3\n",
    "    ],\n",
    "    [\n",
    "      6.3,\n",
    "      3.4,\n",
    "      5.6,\n",
    "      2.4\n",
    "    ],\n",
    "    [\n",
    "      4.8,\n",
    "      3.4,\n",
    "      1.9,\n",
    "      0.2\n",
    "    ],\n",
    "    [\n",
    "      5.8,\n",
    "      2.7,\n",
    "      5.1,\n",
    "      1.9\n",
    "    ],\n",
    "    [\n",
    "      7.2,\n",
    "      3.0,\n",
    "      5.8,\n",
    "      1.6\n",
    "    ],\n",
    "    [\n",
    "      5.4,\n",
    "      3.9,\n",
    "      1.7,\n",
    "      0.4\n",
    "    ],\n",
    "    [\n",
    "      6.9,\n",
    "      3.2,\n",
    "      5.7,\n",
    "      2.3\n",
    "    ],\n",
    "    [\n",
    "      6.5,\n",
    "      3.0,\n",
    "      5.5,\n",
    "      1.8\n",
    "    ],\n",
    "    [\n",
    "      7.7,\n",
    "      2.6,\n",
    "      6.9,\n",
    "      2.3\n",
    "    ],\n",
    "    [\n",
    "      6.4,\n",
    "      3.1,\n",
    "      5.5,\n",
    "      1.8\n",
    "    ],\n",
    "    [\n",
    "      5.2,\n",
    "      3.5,\n",
    "      1.5,\n",
    "      0.2\n",
    "    ],\n",
    "    [\n",
    "      6.3,\n",
    "      2.9,\n",
    "      5.6,\n",
    "      1.8\n",
    "    ],\n",
    "    [\n",
    "      4.9,\n",
    "      3.1,\n",
    "      1.5,\n",
    "      0.2\n",
    "    ],\n",
    "    [\n",
    "      7.9,\n",
    "      3.8,\n",
    "      6.4,\n",
    "      2.0\n",
    "    ],\n",
    "    [\n",
    "      5.5,\n",
    "      4.2,\n",
    "      1.4,\n",
    "      0.2\n",
    "    ],\n",
    "    [\n",
    "      6.1,\n",
    "      3.0,\n",
    "      4.9,\n",
    "      1.8\n",
    "    ],\n",
    "    [\n",
    "      5.0,\n",
    "      3.2,\n",
    "      1.2,\n",
    "      0.2\n",
    "    ],\n",
    "    [\n",
    "      4.9,\n",
    "      3.0,\n",
    "      1.4,\n",
    "      0.2\n",
    "    ],\n",
    "    [\n",
    "      6.0,\n",
    "      2.2,\n",
    "      4.0,\n",
    "      1.0\n",
    "    ],\n",
    "    [\n",
    "      5.0,\n",
    "      3.6,\n",
    "      1.4,\n",
    "      0.2\n",
    "    ],\n",
    "    [\n",
    "      4.6,\n",
    "      3.4,\n",
    "      1.4,\n",
    "      0.3\n",
    "    ],\n",
    "    [\n",
    "      6.9,\n",
    "      3.1,\n",
    "      5.1,\n",
    "      2.3\n",
    "    ],\n",
    "    [\n",
    "      5.0,\n",
    "      3.5,\n",
    "      1.3,\n",
    "      0.3\n",
    "    ],\n",
    "    [\n",
    "      5.8,\n",
    "      2.8,\n",
    "      5.1,\n",
    "      2.4\n",
    "    ],\n",
    "    [\n",
    "      4.9,\n",
    "      3.1,\n",
    "      1.5,\n",
    "      0.1\n",
    "    ],\n",
    "    [\n",
    "      5.6,\n",
    "      2.7,\n",
    "      4.2,\n",
    "      1.3\n",
    "    ],\n",
    "    [\n",
    "      7.0,\n",
    "      3.2,\n",
    "      4.7,\n",
    "      1.4\n",
    "    ],\n",
    "    [\n",
    "      6.3,\n",
    "      2.7,\n",
    "      4.9,\n",
    "      1.8\n",
    "    ],\n",
    "    [\n",
    "      5.0,\n",
    "      3.4,\n",
    "      1.5,\n",
    "      0.2\n",
    "    ],\n",
    "    [\n",
    "      5.8,\n",
    "      2.7,\n",
    "      5.1,\n",
    "      1.9\n",
    "    ],\n",
    "    [\n",
    "      6.1,\n",
    "      2.9,\n",
    "      4.7,\n",
    "      1.4\n",
    "    ],\n",
    "    [\n",
    "      7.2,\n",
    "      3.6,\n",
    "      6.1,\n",
    "      2.5\n",
    "    ],\n",
    "    [\n",
    "      6.7,\n",
    "      3.1,\n",
    "      5.6,\n",
    "      2.4\n",
    "    ],\n",
    "    [\n",
    "      6.3,\n",
    "      3.3,\n",
    "      6.0,\n",
    "      2.5\n",
    "    ],\n",
    "    [\n",
    "      6.3,\n",
    "      2.5,\n",
    "      4.9,\n",
    "      1.5\n",
    "    ],\n",
    "    [\n",
    "      4.8,\n",
    "      3.1,\n",
    "      1.6,\n",
    "      0.2\n",
    "    ],\n",
    "    [\n",
    "      6.4,\n",
    "      2.8,\n",
    "      5.6,\n",
    "      2.1\n",
    "    ],\n",
    "    [\n",
    "      6.2,\n",
    "      2.9,\n",
    "      4.3,\n",
    "      1.3\n",
    "    ],\n",
    "    [\n",
    "      5.7,\n",
    "      2.5,\n",
    "      5.0,\n",
    "      2.0\n",
    "    ],\n",
    "    [\n",
    "      6.0,\n",
    "      3.4,\n",
    "      4.5,\n",
    "      1.6\n",
    "    ],\n",
    "    [\n",
    "      5.2,\n",
    "      3.4,\n",
    "      1.4,\n",
    "      0.2\n",
    "    ],\n",
    "    [\n",
    "      5.7,\n",
    "      4.4,\n",
    "      1.5,\n",
    "      0.4\n",
    "    ],\n",
    "    [\n",
    "      5.0,\n",
    "      2.3,\n",
    "      3.3,\n",
    "      1.0\n",
    "    ],\n",
    "    [\n",
    "      6.2,\n",
    "      2.2,\n",
    "      4.5,\n",
    "      1.5\n",
    "    ],\n",
    "    [\n",
    "      6.3,\n",
    "      2.3,\n",
    "      4.4,\n",
    "      1.3\n",
    "    ],\n",
    "    [\n",
    "      6.3,\n",
    "      2.8,\n",
    "      5.1,\n",
    "      1.5\n",
    "    ],\n",
    "    [\n",
    "      5.1,\n",
    "      3.3,\n",
    "      1.7,\n",
    "      0.5\n",
    "    ],\n",
    "    [\n",
    "      6.0,\n",
    "      2.9,\n",
    "      4.5,\n",
    "      1.5\n",
    "    ],\n",
    "    [\n",
    "      6.5,\n",
    "      3.0,\n",
    "      5.2,\n",
    "      2.0\n",
    "    ],\n",
    "    [\n",
    "      5.3,\n",
    "      3.7,\n",
    "      1.5,\n",
    "      0.2\n",
    "    ],\n",
    "    [\n",
    "      6.8,\n",
    "      2.8,\n",
    "      4.8,\n",
    "      1.4\n",
    "    ],\n",
    "    [\n",
    "      5.9,\n",
    "      3.0,\n",
    "      5.1,\n",
    "      1.8\n",
    "    ],\n",
    "    [\n",
    "      4.7,\n",
    "      3.2,\n",
    "      1.6,\n",
    "      0.2\n",
    "    ],\n",
    "    [\n",
    "      5.5,\n",
    "      3.5,\n",
    "      1.3,\n",
    "      0.2\n",
    "    ],\n",
    "    [\n",
    "      6.7,\n",
    "      3.0,\n",
    "      5.2,\n",
    "      2.3\n",
    "    ],\n",
    "    [\n",
    "      5.7,\n",
    "      2.6,\n",
    "      3.5,\n",
    "      1.0\n",
    "    ],\n",
    "    [\n",
    "      5.8,\n",
    "      2.7,\n",
    "      4.1,\n",
    "      1.0\n",
    "    ],\n",
    "    [\n",
    "      5.5,\n",
    "      2.5,\n",
    "      4.0,\n",
    "      1.3\n",
    "    ],\n",
    "    [\n",
    "      5.1,\n",
    "      3.8,\n",
    "      1.9,\n",
    "      0.4\n",
    "    ],\n",
    "    [\n",
    "      5.7,\n",
    "      2.8,\n",
    "      4.5,\n",
    "      1.3\n",
    "    ],\n",
    "    [\n",
    "      6.7,\n",
    "      3.1,\n",
    "      4.4,\n",
    "      1.4\n",
    "    ],\n",
    "    [\n",
    "      6.4,\n",
    "      3.2,\n",
    "      5.3,\n",
    "      2.3\n",
    "    ],\n",
    "    [\n",
    "      7.7,\n",
    "      2.8,\n",
    "      6.7,\n",
    "      2.0\n",
    "    ],\n",
    "    [\n",
    "      5.5,\n",
    "      2.6,\n",
    "      4.4,\n",
    "      1.2\n",
    "    ],\n",
    "    [\n",
    "      5.7,\n",
    "      2.9,\n",
    "      4.2,\n",
    "      1.3\n",
    "    ],\n",
    "    [\n",
    "      7.4,\n",
    "      2.8,\n",
    "      6.1,\n",
    "      1.9\n",
    "    ],\n",
    "    [\n",
    "      7.6,\n",
    "      3.0,\n",
    "      6.6,\n",
    "      2.1\n",
    "    ],\n",
    "    [\n",
    "      6.3,\n",
    "      3.3,\n",
    "      4.7,\n",
    "      1.6\n",
    "    ],\n",
    "    [\n",
    "      5.4,\n",
    "      3.0,\n",
    "      4.5,\n",
    "      1.5\n",
    "    ],\n",
    "    [\n",
    "      6.2,\n",
    "      2.8,\n",
    "      4.8,\n",
    "      1.8\n",
    "    ],\n",
    "    [\n",
    "      4.4,\n",
    "      3.2,\n",
    "      1.3,\n",
    "      0.2\n",
    "    ],\n",
    "    [\n",
    "      6.6,\n",
    "      2.9,\n",
    "      4.6,\n",
    "      1.3\n",
    "    ],\n",
    "    [\n",
    "      7.2,\n",
    "      3.2,\n",
    "      6.0,\n",
    "      1.8\n",
    "    ],\n",
    "    [\n",
    "      4.7,\n",
    "      3.2,\n",
    "      1.3,\n",
    "      0.2\n",
    "    ],\n",
    "    [\n",
    "      5.7,\n",
    "      2.8,\n",
    "      4.1,\n",
    "      1.3\n",
    "    ],\n",
    "    [\n",
    "      5.5,\n",
    "      2.3,\n",
    "      4.0,\n",
    "      1.3\n",
    "    ],\n",
    "    [\n",
    "      5.1,\n",
    "      3.8,\n",
    "      1.5,\n",
    "      0.3\n",
    "    ],\n",
    "    [\n",
    "      6.1,\n",
    "      2.6,\n",
    "      5.6,\n",
    "      1.4\n",
    "    ],\n",
    "    [\n",
    "      4.6,\n",
    "      3.2,\n",
    "      1.4,\n",
    "      0.2\n",
    "    ],\n",
    "    [\n",
    "      6.7,\n",
    "      3.3,\n",
    "      5.7,\n",
    "      2.1\n",
    "    ],\n",
    "    [\n",
    "      6.7,\n",
    "      3.1,\n",
    "      4.7,\n",
    "      1.5\n",
    "    ],\n",
    "    [\n",
    "      5.6,\n",
    "      2.5,\n",
    "      3.9,\n",
    "      1.1\n",
    "    ],\n",
    "    [\n",
    "      5.1,\n",
    "      3.5,\n",
    "      1.4,\n",
    "      0.2\n",
    "    ],\n",
    "    [\n",
    "      5.0,\n",
    "      3.4,\n",
    "      1.6,\n",
    "      0.4\n",
    "    ],\n",
    "    [\n",
    "      5.1,\n",
    "      3.5,\n",
    "      1.4,\n",
    "      0.3\n",
    "    ],\n",
    "    [\n",
    "      4.8,\n",
    "      3.0,\n",
    "      1.4,\n",
    "      0.1\n",
    "    ],\n",
    "    [\n",
    "      6.1,\n",
    "      2.8,\n",
    "      4.7,\n",
    "      1.2\n",
    "    ],\n",
    "    [\n",
    "      5.9,\n",
    "      3.0,\n",
    "      4.2,\n",
    "      1.5\n",
    "    ],\n",
    "    [\n",
    "      5.0,\n",
    "      3.5,\n",
    "      1.6,\n",
    "      0.6\n",
    "    ],\n",
    "    [\n",
    "      6.1,\n",
    "      3.0,\n",
    "      4.6,\n",
    "      1.4\n",
    "    ],\n",
    "    [\n",
    "      6.8,\n",
    "      3.0,\n",
    "      5.5,\n",
    "      2.1\n",
    "    ],\n",
    "    [\n",
    "      5.1,\n",
    "      3.8,\n",
    "      1.6,\n",
    "      0.2\n",
    "    ],\n",
    "    [\n",
    "      5.7,\n",
    "      3.0,\n",
    "      4.2,\n",
    "      1.2\n",
    "    ],\n",
    "    [\n",
    "      4.4,\n",
    "      2.9,\n",
    "      1.4,\n",
    "      0.2\n",
    "    ],\n",
    "    [\n",
    "      4.4,\n",
    "      3.0,\n",
    "      1.3,\n",
    "      0.2\n",
    "    ],\n",
    "    [\n",
    "      5.4,\n",
    "      3.4,\n",
    "      1.5,\n",
    "      0.4\n",
    "    ],\n",
    "    [\n",
    "      7.7,\n",
    "      3.8,\n",
    "      6.7,\n",
    "      2.2\n",
    "    ],\n",
    "    [\n",
    "      5.0,\n",
    "      2.0,\n",
    "      3.5,\n",
    "      1.0\n",
    "    ],\n",
    "    [\n",
    "      6.4,\n",
    "      2.9,\n",
    "      4.3,\n",
    "      1.3\n",
    "    ],\n",
    "    [\n",
    "      6.0,\n",
    "      2.2,\n",
    "      5.0,\n",
    "      1.5\n",
    "    ],\n",
    "    [\n",
    "      4.6,\n",
    "      3.1,\n",
    "      1.5,\n",
    "      0.2\n",
    "    ],\n",
    "    [\n",
    "      5.8,\n",
    "      2.7,\n",
    "      3.9,\n",
    "      1.2\n",
    "    ],\n",
    "    [\n",
    "      4.9,\n",
    "      2.5,\n",
    "      4.5,\n",
    "      1.7\n",
    "    ],\n",
    "    [\n",
    "      4.8,\n",
    "      3.0,\n",
    "      1.4,\n",
    "      0.3\n",
    "    ],\n",
    "    [\n",
    "      5.4,\n",
    "      3.9,\n",
    "      1.3,\n",
    "      0.4\n",
    "    ],\n",
    "    [\n",
    "      6.4,\n",
    "      3.2,\n",
    "      4.5,\n",
    "      1.5\n",
    "    ],\n",
    "    [\n",
    "      6.3,\n",
    "      2.5,\n",
    "      5.0,\n",
    "      1.9\n",
    "    ]\n",
    "  ]\n",
    "}\"\"\"\n",
    "\n",
    "# Validate the serving payload works on the model\n",
    "validate_serving_input(model_uri, serving_payload)"
   ]
  },
  {
   "cell_type": "markdown",
   "id": "f4d73e05",
   "metadata": {},
   "source": [
    "## Load the model back for prediction as a generic python function model\n"
   ]
  },
  {
   "cell_type": "code",
   "execution_count": 13,
   "id": "c8675549",
   "metadata": {},
   "outputs": [
    {
     "data": {
      "application/vnd.jupyter.widget-view+json": {
       "model_id": "78a1cd3e2a27484996cf4293ff0e2154",
       "version_major": 2,
       "version_minor": 0
      },
      "text/plain": [
       "Downloading artifacts:   0%|          | 0/7 [00:00<?, ?it/s]"
      ]
     },
     "metadata": {},
     "output_type": "display_data"
    }
   ],
   "source": [
    "loaded_model=mlflow.pyfunc.load_model(model_info.model_uri)\n",
    "predictions=loaded_model.predict(X_test)\n",
    "\n",
    "iris_features_name=datasets.load_iris().feature_names\n",
    "\n",
    "result=pd.DataFrame(X_test,columns=iris_features_name)\n",
    "result[\"actual_class\"]=y_test\n",
    "result[\"predcited_class\"]=predictions"
   ]
  },
  {
   "cell_type": "code",
   "execution_count": 14,
   "id": "dbb1c4cb",
   "metadata": {},
   "outputs": [
    {
     "data": {
      "text/html": [
       "<div>\n",
       "<style scoped>\n",
       "    .dataframe tbody tr th:only-of-type {\n",
       "        vertical-align: middle;\n",
       "    }\n",
       "\n",
       "    .dataframe tbody tr th {\n",
       "        vertical-align: top;\n",
       "    }\n",
       "\n",
       "    .dataframe thead th {\n",
       "        text-align: right;\n",
       "    }\n",
       "</style>\n",
       "<table border=\"1\" class=\"dataframe\">\n",
       "  <thead>\n",
       "    <tr style=\"text-align: right;\">\n",
       "      <th></th>\n",
       "      <th>sepal length (cm)</th>\n",
       "      <th>sepal width (cm)</th>\n",
       "      <th>petal length (cm)</th>\n",
       "      <th>petal width (cm)</th>\n",
       "      <th>actual_class</th>\n",
       "      <th>predcited_class</th>\n",
       "    </tr>\n",
       "  </thead>\n",
       "  <tbody>\n",
       "    <tr>\n",
       "      <th>0</th>\n",
       "      <td>7.7</td>\n",
       "      <td>2.8</td>\n",
       "      <td>6.7</td>\n",
       "      <td>2.0</td>\n",
       "      <td>2</td>\n",
       "      <td>2</td>\n",
       "    </tr>\n",
       "    <tr>\n",
       "      <th>1</th>\n",
       "      <td>6.4</td>\n",
       "      <td>3.1</td>\n",
       "      <td>5.5</td>\n",
       "      <td>1.8</td>\n",
       "      <td>2</td>\n",
       "      <td>2</td>\n",
       "    </tr>\n",
       "    <tr>\n",
       "      <th>2</th>\n",
       "      <td>6.7</td>\n",
       "      <td>3.1</td>\n",
       "      <td>5.6</td>\n",
       "      <td>2.4</td>\n",
       "      <td>2</td>\n",
       "      <td>2</td>\n",
       "    </tr>\n",
       "    <tr>\n",
       "      <th>3</th>\n",
       "      <td>6.1</td>\n",
       "      <td>2.8</td>\n",
       "      <td>4.7</td>\n",
       "      <td>1.2</td>\n",
       "      <td>1</td>\n",
       "      <td>1</td>\n",
       "    </tr>\n",
       "    <tr>\n",
       "      <th>4</th>\n",
       "      <td>6.3</td>\n",
       "      <td>2.5</td>\n",
       "      <td>4.9</td>\n",
       "      <td>1.5</td>\n",
       "      <td>1</td>\n",
       "      <td>1</td>\n",
       "    </tr>\n",
       "  </tbody>\n",
       "</table>\n",
       "</div>"
      ],
      "text/plain": [
       "   sepal length (cm)  sepal width (cm)  petal length (cm)  petal width (cm)  \\\n",
       "0                7.7               2.8                6.7               2.0   \n",
       "1                6.4               3.1                5.5               1.8   \n",
       "2                6.7               3.1                5.6               2.4   \n",
       "3                6.1               2.8                4.7               1.2   \n",
       "4                6.3               2.5                4.9               1.5   \n",
       "\n",
       "   actual_class  predcited_class  \n",
       "0             2                2  \n",
       "1             2                2  \n",
       "2             2                2  \n",
       "3             1                1  \n",
       "4             1                1  "
      ]
     },
     "execution_count": 14,
     "metadata": {},
     "output_type": "execute_result"
    }
   ],
   "source": [
    "result[:5]"
   ]
  },
  {
   "cell_type": "markdown",
   "id": "07e34b8a",
   "metadata": {},
   "source": [
    "### Model Registry\n",
    "\n",
    "The MLflow Model Registry component is a centralized model store, set of APIs, and UI, to collaboratively manage the full lifecycle of an MLflow Model. It provides model lineage (which MLflow experiment and run produced the model), model versioning, model aliasing, model tagging, and annotations."
   ]
  },
  {
   "cell_type": "code",
   "execution_count": 15,
   "id": "5a6e7bae",
   "metadata": {},
   "outputs": [
    {
     "name": "stderr",
     "output_type": "stream",
     "text": [
      "2025/08/26 22:15:33 WARNING mlflow.models.model: `artifact_path` is deprecated. Please use `name` instead.\n"
     ]
    },
    {
     "data": {
      "application/vnd.jupyter.widget-view+json": {
       "model_id": "42bd7a91a7234353820d935e71bbfc41",
       "version_major": 2,
       "version_minor": 0
      },
      "text/plain": [
       "Downloading artifacts:   0%|          | 0/7 [00:00<?, ?it/s]"
      ]
     },
     "metadata": {},
     "output_type": "display_data"
    },
    {
     "name": "stderr",
     "output_type": "stream",
     "text": [
      "Registered model 'tracking-quickstart' already exists. Creating a new version of this model...\n",
      "2025/08/26 22:15:37 INFO mlflow.store.model_registry.abstract_store: Waiting up to 300 seconds for model version to finish creation. Model name: tracking-quickstart, version 3\n",
      "Created version '3' of model 'tracking-quickstart'.\n"
     ]
    }
   ],
   "source": [
    "## log the model\n",
    "model_info=mlflow.sklearn.log_model(\n",
    "    sk_model=lr,\n",
    "    artifact_path=\"iris_model\",\n",
    "    signature=signature,\n",
    "    input_example=X_train,\n",
    "    registered_model_name=\"tracking-quickstart\",\n",
    "\n",
    ")"
   ]
  },
  {
   "cell_type": "code",
   "execution_count": 16,
   "id": "29897837",
   "metadata": {},
   "outputs": [
    {
     "name": "stderr",
     "output_type": "stream",
     "text": [
      "2025/08/26 22:15:38 WARNING mlflow.models.model: `artifact_path` is deprecated. Please use `name` instead.\n"
     ]
    },
    {
     "data": {
      "application/vnd.jupyter.widget-view+json": {
       "model_id": "4cec8c0754094f92901b8c2611321501",
       "version_major": 2,
       "version_minor": 0
      },
      "text/plain": [
       "Downloading artifacts:   0%|          | 0/7 [00:00<?, ?it/s]"
      ]
     },
     "metadata": {},
     "output_type": "display_data"
    },
    {
     "name": "stdout",
     "output_type": "stream",
     "text": [
      "🏃 View run hilarious-shad-519 at: http://127.0.0.1:5000/#/experiments/114085165796565616/runs/43ce88abae1c43d7990bbd4c55d1150d\n",
      "🧪 View experiment at: http://127.0.0.1:5000/#/experiments/114085165796565616\n"
     ]
    }
   ],
   "source": [
    "##create a new MLFLOW experiment\n",
    "mlflow.set_experiment(\"MLFLOW Quickstart\")\n",
    "\n",
    "## Sstart an MLFLOW run\n",
    "with mlflow.start_run():\n",
    "    ## log the hyperparameters\n",
    "    mlflow.log_params(params)\n",
    "\n",
    "    ## Log the accuracy metrics\n",
    "    mlflow.log_metric(\"accuracy\",1.0)\n",
    "\n",
    "    # Set a tag that we can use to remind ourselves what this run was for\n",
    "    mlflow.set_tag(\"Training Info2\", \"Basic LR model for iris data\")\n",
    "\n",
    "    ## Infer the model signature\n",
    "\n",
    "    signature=infer_signature(X_train,lr.predict(X_train))\n",
    "\n",
    "    ## log the model\n",
    "    ## log the model\n",
    "    model_info=mlflow.sklearn.log_model(\n",
    "        sk_model=lr,\n",
    "        artifact_path=\"iris_model\",\n",
    "        signature=signature,\n",
    "        input_example=X_train,\n",
    "\n",
    "    )"
   ]
  },
  {
   "cell_type": "code",
   "execution_count": 17,
   "id": "6a393e07",
   "metadata": {},
   "outputs": [
    {
     "data": {
      "application/vnd.jupyter.widget-view+json": {
       "model_id": "bb62ff1505544a53ac4e21a0d9438289",
       "version_major": 2,
       "version_minor": 0
      },
      "text/plain": [
       "Downloading artifacts:   0%|          | 0/7 [00:00<?, ?it/s]"
      ]
     },
     "metadata": {},
     "output_type": "display_data"
    },
    {
     "data": {
      "text/html": [
       "<style>#sk-container-id-3 {color: black;}#sk-container-id-3 pre{padding: 0;}#sk-container-id-3 div.sk-toggleable {background-color: white;}#sk-container-id-3 label.sk-toggleable__label {cursor: pointer;display: block;width: 100%;margin-bottom: 0;padding: 0.3em;box-sizing: border-box;text-align: center;}#sk-container-id-3 label.sk-toggleable__label-arrow:before {content: \"▸\";float: left;margin-right: 0.25em;color: #696969;}#sk-container-id-3 label.sk-toggleable__label-arrow:hover:before {color: black;}#sk-container-id-3 div.sk-estimator:hover label.sk-toggleable__label-arrow:before {color: black;}#sk-container-id-3 div.sk-toggleable__content {max-height: 0;max-width: 0;overflow: hidden;text-align: left;background-color: #f0f8ff;}#sk-container-id-3 div.sk-toggleable__content pre {margin: 0.2em;color: black;border-radius: 0.25em;background-color: #f0f8ff;}#sk-container-id-3 input.sk-toggleable__control:checked~div.sk-toggleable__content {max-height: 200px;max-width: 100%;overflow: auto;}#sk-container-id-3 input.sk-toggleable__control:checked~label.sk-toggleable__label-arrow:before {content: \"▾\";}#sk-container-id-3 div.sk-estimator input.sk-toggleable__control:checked~label.sk-toggleable__label {background-color: #d4ebff;}#sk-container-id-3 div.sk-label input.sk-toggleable__control:checked~label.sk-toggleable__label {background-color: #d4ebff;}#sk-container-id-3 input.sk-hidden--visually {border: 0;clip: rect(1px 1px 1px 1px);clip: rect(1px, 1px, 1px, 1px);height: 1px;margin: -1px;overflow: hidden;padding: 0;position: absolute;width: 1px;}#sk-container-id-3 div.sk-estimator {font-family: monospace;background-color: #f0f8ff;border: 1px dotted black;border-radius: 0.25em;box-sizing: border-box;margin-bottom: 0.5em;}#sk-container-id-3 div.sk-estimator:hover {background-color: #d4ebff;}#sk-container-id-3 div.sk-parallel-item::after {content: \"\";width: 100%;border-bottom: 1px solid gray;flex-grow: 1;}#sk-container-id-3 div.sk-label:hover label.sk-toggleable__label {background-color: #d4ebff;}#sk-container-id-3 div.sk-serial::before {content: \"\";position: absolute;border-left: 1px solid gray;box-sizing: border-box;top: 0;bottom: 0;left: 50%;z-index: 0;}#sk-container-id-3 div.sk-serial {display: flex;flex-direction: column;align-items: center;background-color: white;padding-right: 0.2em;padding-left: 0.2em;position: relative;}#sk-container-id-3 div.sk-item {position: relative;z-index: 1;}#sk-container-id-3 div.sk-parallel {display: flex;align-items: stretch;justify-content: center;background-color: white;position: relative;}#sk-container-id-3 div.sk-item::before, #sk-container-id-3 div.sk-parallel-item::before {content: \"\";position: absolute;border-left: 1px solid gray;box-sizing: border-box;top: 0;bottom: 0;left: 50%;z-index: -1;}#sk-container-id-3 div.sk-parallel-item {display: flex;flex-direction: column;z-index: 1;position: relative;background-color: white;}#sk-container-id-3 div.sk-parallel-item:first-child::after {align-self: flex-end;width: 50%;}#sk-container-id-3 div.sk-parallel-item:last-child::after {align-self: flex-start;width: 50%;}#sk-container-id-3 div.sk-parallel-item:only-child::after {width: 0;}#sk-container-id-3 div.sk-dashed-wrapped {border: 1px dashed gray;margin: 0 0.4em 0.5em 0.4em;box-sizing: border-box;padding-bottom: 0.4em;background-color: white;}#sk-container-id-3 div.sk-label label {font-family: monospace;font-weight: bold;display: inline-block;line-height: 1.2em;}#sk-container-id-3 div.sk-label-container {text-align: center;}#sk-container-id-3 div.sk-container {/* jupyter's `normalize.less` sets `[hidden] { display: none; }` but bootstrap.min.css set `[hidden] { display: none !important; }` so we also need the `!important` here to be able to override the default hidden behavior on the sphinx rendered scikit-learn.org. See: https://github.com/scikit-learn/scikit-learn/issues/21755 */display: inline-block !important;position: relative;}#sk-container-id-3 div.sk-text-repr-fallback {display: none;}</style><div id=\"sk-container-id-3\" class=\"sk-top-container\"><div class=\"sk-text-repr-fallback\"><pre>LogisticRegression(max_iter=1000, random_state=1000, solver=&#x27;newton-cg&#x27;)</pre><b>In a Jupyter environment, please rerun this cell to show the HTML representation or trust the notebook. <br />On GitHub, the HTML representation is unable to render, please try loading this page with nbviewer.org.</b></div><div class=\"sk-container\" hidden><div class=\"sk-item\"><div class=\"sk-estimator sk-toggleable\"><input class=\"sk-toggleable__control sk-hidden--visually\" id=\"sk-estimator-id-3\" type=\"checkbox\" checked><label for=\"sk-estimator-id-3\" class=\"sk-toggleable__label sk-toggleable__label-arrow\">LogisticRegression</label><div class=\"sk-toggleable__content\"><pre>LogisticRegression(max_iter=1000, random_state=1000, solver=&#x27;newton-cg&#x27;)</pre></div></div></div></div></div>"
      ],
      "text/plain": [
       "LogisticRegression(max_iter=1000, random_state=1000, solver='newton-cg')"
      ]
     },
     "execution_count": 17,
     "metadata": {},
     "output_type": "execute_result"
    }
   ],
   "source": [
    "## Inferencing from model from model registry\n",
    "\n",
    "import mlflow.sklearn\n",
    "model_name=\"tracking-quickstart\"\n",
    "model_version=\"latest\"\n",
    "\n",
    "model_uri=f\"models:/{model_name}/{model_version}\"\n",
    "\n",
    "model=mlflow.sklearn.load_model(model_uri)\n",
    "model"
   ]
  },
  {
   "cell_type": "code",
   "execution_count": 18,
   "id": "55fd2b19",
   "metadata": {},
   "outputs": [
    {
     "data": {
      "text/plain": [
       "'models:/tracking-quickstart/latest'"
      ]
     },
     "execution_count": 18,
     "metadata": {},
     "output_type": "execute_result"
    }
   ],
   "source": [
    "model_uri"
   ]
  },
  {
   "cell_type": "code",
   "execution_count": 19,
   "id": "89a714dd",
   "metadata": {},
   "outputs": [
    {
     "data": {
      "text/plain": [
       "array([2, 2, 2, 1, 1, 1, 0, 2, 1, 0, 1, 1, 1, 0, 1, 2, 0, 2, 2, 0, 1, 0,\n",
       "       1, 2, 1, 2, 0, 0, 2, 2])"
      ]
     },
     "execution_count": 19,
     "metadata": {},
     "output_type": "execute_result"
    }
   ],
   "source": [
    "y_pred_new=model.predict(X_test)\n",
    "y_pred_new"
   ]
  },
  {
   "cell_type": "code",
   "execution_count": null,
   "id": "e708df28",
   "metadata": {},
   "outputs": [],
   "source": []
  },
  {
   "cell_type": "code",
   "execution_count": null,
   "metadata": {},
   "outputs": [],
   "source": []
  },
  {
   "cell_type": "code",
   "execution_count": null,
   "id": "d7bbe51d",
   "metadata": {},
   "outputs": [],
   "source": []
  },
  {
   "cell_type": "code",
   "execution_count": null,
   "id": "cb1435d9",
   "metadata": {},
   "outputs": [],
   "source": []
  },
  {
   "cell_type": "code",
   "execution_count": null,
   "id": "aa808e62",
   "metadata": {},
   "outputs": [],
   "source": []
  },
  {
   "cell_type": "code",
   "execution_count": null,
   "id": "c475a642",
   "metadata": {},
   "outputs": [],
   "source": []
  },
  {
   "cell_type": "code",
   "execution_count": null,
   "id": "911f3b6c",
   "metadata": {},
   "outputs": [],
   "source": []
  },
  {
   "cell_type": "markdown",
   "id": "8d5a1e04",
   "metadata": {},
   "source": []
  }
 ],
 "metadata": {
  "kernelspec": {
   "display_name": "base",
   "language": "python",
   "name": "python3"
  },
  "language_info": {
   "codemirror_mode": {
    "name": "ipython",
    "version": 3
   },
   "file_extension": ".py",
   "mimetype": "text/x-python",
   "name": "python",
   "nbconvert_exporter": "python",
   "pygments_lexer": "ipython3",
   "version": "3.11.4"
  }
 },
 "nbformat": 4,
 "nbformat_minor": 5
}
