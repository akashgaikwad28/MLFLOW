{
 "cells": [
  {
   "cell_type": "markdown",
   "id": "78410e3b",
   "metadata": {},
   "source": [
    "## MLFLow Tracking Server\n"
   ]
  },
  {
   "cell_type": "code",
   "execution_count": 1,
   "id": "b6393c04",
   "metadata": {},
   "outputs": [],
   "source": [
    "import mlflow"
   ]
  },
  {
   "cell_type": "code",
   "execution_count": 2,
   "id": "c8bf4f01",
   "metadata": {},
   "outputs": [],
   "source": [
    "mlflow.set_tracking_uri(\"http://127.0.0.1:5000\")"
   ]
  },
  {
   "cell_type": "code",
   "execution_count": 3,
   "id": "2daa8495",
   "metadata": {},
   "outputs": [
    {
     "name": "stderr",
     "output_type": "stream",
     "text": [
      "2025/08/26 22:13:20 INFO mlflow.tracking.fluent: Experiment with name 'Check localhost connection' does not exist. Creating a new experiment.\n"
     ]
    },
    {
     "name": "stdout",
     "output_type": "stream",
     "text": [
      "🏃 View run masked-hawk-94 at: http://127.0.0.1:5000/#/experiments/923393127640261028/runs/10bd3c7ff11647a79c76d21c7f333a31\n",
      "🧪 View experiment at: http://127.0.0.1:5000/#/experiments/923393127640261028\n"
     ]
    }
   ],
   "source": [
    "import mlflow\n",
    "\n",
    "# Point MLflow to the local tracking server\n",
    "mlflow.set_tracking_uri(\"http://127.0.0.1:5000\")\n",
    "\n",
    "# Create or use an experiment\n",
    "mlflow.set_experiment(\"Check localhost connection\")\n",
    "\n",
    "# Start a run\n",
    "with mlflow.start_run():\n",
    "    mlflow.log_metric(\"test\", 1)\n",
    "    mlflow.log_metric(\"level\", 1)\n"
   ]
  },
  {
   "cell_type": "code",
   "execution_count": null,
   "id": "b3daba4a",
   "metadata": {},
   "outputs": [],
   "source": []
  }
 ],
 "metadata": {
  "kernelspec": {
   "display_name": "base",
   "language": "python",
   "name": "python3"
  },
  "language_info": {
   "codemirror_mode": {
    "name": "ipython",
    "version": 3
   },
   "file_extension": ".py",
   "mimetype": "text/x-python",
   "name": "python",
   "nbconvert_exporter": "python",
   "pygments_lexer": "ipython3",
   "version": "3.11.4"
  }
 },
 "nbformat": 4,
 "nbformat_minor": 5
}
